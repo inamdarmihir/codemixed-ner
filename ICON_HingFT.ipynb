{
  "cells": [
    {
      "cell_type": "markdown",
      "metadata": {
        "id": "t-JTDofTxnAG"
      },
      "source": [
        "##Loading dependencies:"
      ]
    },
    {
      "cell_type": "code",
      "execution_count": null,
      "metadata": {
        "colab": {
          "base_uri": "https://localhost:8080/"
        },
        "id": "js_oeG_ygNHo",
        "outputId": "22fd7f07-793a-4a95-99ee-cacb0e45706f"
      },
      "outputs": [
        {
          "name": "stdout",
          "output_type": "stream",
          "text": [
            "Requirement already satisfied: pandas in /usr/local/lib/python3.10/dist-packages (1.5.3)\n",
            "Requirement already satisfied: numpy in /usr/local/lib/python3.10/dist-packages (1.23.5)\n",
            "Requirement already satisfied: fasttext in /usr/local/lib/python3.10/dist-packages (0.9.2)\n",
            "Requirement already satisfied: scikit-learn in /usr/local/lib/python3.10/dist-packages (1.2.2)\n",
            "Requirement already satisfied: python-dateutil>=2.8.1 in /usr/local/lib/python3.10/dist-packages (from pandas) (2.8.2)\n",
            "Requirement already satisfied: pytz>=2020.1 in /usr/local/lib/python3.10/dist-packages (from pandas) (2023.3.post1)\n",
            "Requirement already satisfied: pybind11>=2.2 in /usr/local/lib/python3.10/dist-packages (from fasttext) (2.11.1)\n",
            "Requirement already satisfied: setuptools>=0.7.0 in /usr/local/lib/python3.10/dist-packages (from fasttext) (67.7.2)\n",
            "Requirement already satisfied: scipy>=1.3.2 in /usr/local/lib/python3.10/dist-packages (from scikit-learn) (1.11.3)\n",
            "Requirement already satisfied: joblib>=1.1.1 in /usr/local/lib/python3.10/dist-packages (from scikit-learn) (1.3.2)\n",
            "Requirement already satisfied: threadpoolctl>=2.0.0 in /usr/local/lib/python3.10/dist-packages (from scikit-learn) (3.2.0)\n",
            "Requirement already satisfied: six>=1.5 in /usr/local/lib/python3.10/dist-packages (from python-dateutil>=2.8.1->pandas) (1.16.0)\n"
          ]
        }
      ],
      "source": [
        "!pip install pandas numpy fasttext scikit-learn\n",
        "from sklearn.svm import SVC  # Import the SVC class\n",
        "from sklearn.metrics import accuracy_score\n",
        "import pandas as pd\n",
        "import numpy as np\n",
        "import fasttext as fasttext"
      ]
    },
    {
      "cell_type": "markdown",
      "metadata": {
        "id": "qTdiN55vxsiT"
      },
      "source": [
        "##Importing Dataset:"
      ]
    },
    {
      "cell_type": "code",
      "execution_count": null,
      "metadata": {
        "colab": {
          "background_save": true
        },
        "id": "XJvJzf3ms5Qz"
      },
      "outputs": [],
      "source": [
        "# Load the datasets\n",
        "train_data = pd.read_csv(\"ICONTrain.csv\")\n",
        "test_data = pd.read_csv(\"ICONTest.csv\")\n",
        "\n",
        "\n",
        "X_train = train_data['sentence'].values\n",
        "y_train = train_data['sentiment'].values\n",
        "\n",
        "X_test = test_data['sentence'].values\n",
        "y_test = test_data['sentiment'].values"
      ]
    },
    {
      "cell_type": "code",
      "execution_count": null,
      "metadata": {
        "colab": {
          "background_save": true
        },
        "id": "ZiGUT-OCtKJa"
      },
      "outputs": [],
      "source": [
        "# Save the data in FastText format\n",
        "with open(\"train.txt\", \"w\", encoding=\"utf-8\") as f:\n",
        "    for sentence, tag in zip(X_train, y_train):\n",
        "        f.write(f\"__label__{tag} {sentence}\\n\")"
      ]
    },
    {
      "cell_type": "markdown",
      "metadata": {
        "id": "XbL1-0iiyGPj"
      },
      "source": [
        "##Generating fasttext embeddings:"
      ]
    },
    {
      "cell_type": "code",
      "execution_count": null,
      "metadata": {
        "id": "jOW2MZvMtOSS"
      },
      "outputs": [],
      "source": [
        "# Train FastText supervised model\n",
        "model = fasttext.train_supervised('train.txt', label_prefix='__label__')\n",
        "\n",
        "def sentence_embedding(sentence, model):\n",
        "    if not pd.isna(sentence):  # Check for NaN values\n",
        "        words = sentence.split()\n",
        "        embeddings = [model[word] for word in words if word in model.words]\n",
        "        if len(embeddings) == 0:\n",
        "            return np.zeros(model.get_dimension())\n",
        "        return np.mean(embeddings, axis=0)\n",
        "    else:\n",
        "        return np.zeros(model.get_dimension())  # Return zeros for NaN sentences\n",
        "\n",
        "# Compute average embeddings for train, test, and eval sets\n",
        "X_train_avg = [sentence_embedding(text, model) for text in X_train]\n",
        "X_test_avg = [sentence_embedding(text, model) for text in X_test]\n"
      ]
    },
    {
      "cell_type": "markdown",
      "metadata": {
        "id": "i-k2nDynyLGU"
      },
      "source": [
        "##Training SVM on data:"
      ]
    },
    {
      "cell_type": "code",
      "execution_count": null,
      "metadata": {
        "colab": {
          "base_uri": "https://localhost:8080/"
        },
        "id": "60NrdiDYtT06",
        "outputId": "09155870-e9dd-454c-af6b-c24e5ac7f341"
      },
      "outputs": [
        {
          "name": "stdout",
          "output_type": "stream",
          "text": [
            "Accuracy on test set: 0.7321727485771677\n"
          ]
        }
      ],
      "source": [
        "# Initialize and train the SVM classifier\n",
        "svm_classifier = SVC(kernel='linear')\n",
        "svm_classifier.fit(X_train_avg, y_train)\n",
        "\n",
        "# Make predictions on test set\n",
        "y_pred = svm_classifier.predict(X_test_avg)\n",
        "\n",
        "# Evaluate the classifier\n",
        "accuracy = accuracy_score(y_test, y_pred)\n",
        "print(f\"Accuracy on test set: {accuracy}\")"
      ]
    }
  ],
  "metadata": {
    "colab": {
      "provenance": []
    },
    "kernelspec": {
      "display_name": "Python 3",
      "name": "python3"
    },
    "language_info": {
      "name": "python"
    }
  },
  "nbformat": 4,
  "nbformat_minor": 0
}